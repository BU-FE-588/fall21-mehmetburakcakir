{
 "cells": [
  {
   "cell_type": "markdown",
   "metadata": {},
   "source": [
    "# Homework 1 and 2 due November 23$^{th}$, 2021\n",
    "\n",
    "The aim of this homework is to practive the concepts of basic data structures, control flows and loops in Python. You are expected to use GitHub Classroom and present your work as an html file (i.e. web page) on your progress journals. You can use this jupyter notebook as template to provide your answers."
   ]
  },
  {
   "cell_type": "markdown",
   "metadata": {},
   "source": [
    "## Task 1\n",
    "Implement a Python program to input two numbers and perform all arithmetic operations. You are expected to find the sum, difference, product, quotient and remainder of two given numbers."
   ]
  },
  {
   "cell_type": "code",
   "execution_count": 24,
   "metadata": {},
   "outputs": [],
   "source": [
    "def aritmetic(x:int,y:int):\n",
    "    print(f'Sum: {x+y}')\n",
    "    print(f'Dif: {x-y}')\n",
    "    print(f'Product: {x*y}')\n",
    "    print(f\"Quotient: {(x/y):.2f}\")\n",
    "    print(f'Remainder: {x%y}')"
   ]
  },
  {
   "cell_type": "code",
   "execution_count": 25,
   "metadata": {},
   "outputs": [
    {
     "name": "stdout",
     "output_type": "stream",
     "text": [
      "Sum: 17\n",
      "Dif: 9\n",
      "Product: 52\n",
      "Quotient: 3.25\n",
      "Remainder: 1\n"
     ]
    }
   ],
   "source": [
    "aritmetic(13,4)"
   ]
  },
  {
   "cell_type": "markdown",
   "metadata": {},
   "source": [
    "## Task 2\n",
    "Implement a Python program to input length and width of a rectangle and find area of the given rectangle. "
   ]
  },
  {
   "cell_type": "code",
   "execution_count": 10,
   "metadata": {},
   "outputs": [],
   "source": [
    "def area_rectangle(length:float,width:float):return length*width"
   ]
  },
  {
   "cell_type": "code",
   "execution_count": 11,
   "metadata": {},
   "outputs": [
    {
     "data": {
      "text/plain": [
       "14.0"
      ]
     },
     "execution_count": 11,
     "metadata": {},
     "output_type": "execute_result"
    }
   ],
   "source": [
    "area_rectangle(3.5,4)"
   ]
  },
  {
   "cell_type": "markdown",
   "metadata": {},
   "source": [
    "## Task 3\n",
    "Implement a Python program to input any decimal number from user and convert it to binary number system (i.e. base-2 number system)"
   ]
  },
  {
   "cell_type": "code",
   "execution_count": 16,
   "metadata": {},
   "outputs": [],
   "source": [
    "def to_binary(n):return int(bin(n).replace(\"0b\", \"\"))"
   ]
  },
  {
   "cell_type": "code",
   "execution_count": 17,
   "metadata": {},
   "outputs": [
    {
     "data": {
      "text/plain": [
       "1010"
      ]
     },
     "execution_count": 17,
     "metadata": {},
     "output_type": "execute_result"
    }
   ],
   "source": [
    "to_binary(10)"
   ]
  },
  {
   "cell_type": "markdown",
   "metadata": {},
   "source": [
    "## Task 4\n",
    "Implement a Python program to input a number and check whether number is even or odd using if/else statements.\n",
    "\n",
    "Example:\n",
    "Input <br>\n",
    "Input num: 25 <br>\n",
    "Output <br>\n",
    "25 is odd."
   ]
  },
  {
   "cell_type": "code",
   "execution_count": 22,
   "metadata": {},
   "outputs": [],
   "source": [
    "def even_or_odd(number:int):\n",
    "    if number%2==0:print(f\"{number} is even\")\n",
    "    else:print(f\"{number} is odd\")"
   ]
  },
  {
   "cell_type": "code",
   "execution_count": 23,
   "metadata": {},
   "outputs": [
    {
     "name": "stdout",
     "output_type": "stream",
     "text": [
      "4 is even\n"
     ]
    }
   ],
   "source": [
    "even_or_odd(4)"
   ]
  },
  {
   "cell_type": "markdown",
   "metadata": {},
   "source": [
    "## Task 5\n",
    "Implement a Python program to check if input year is a leap year using if/else statements."
   ]
  },
  {
   "cell_type": "code",
   "execution_count": 33,
   "metadata": {},
   "outputs": [],
   "source": [
    "def is_leap(year:int):  \n",
    "    if((year % 400 == 0) or  \n",
    "         (year % 100 != 0) and  \n",
    "         (year % 4 == 0)):   \n",
    "        print(f\"{year} is a leap year\");  \n",
    "    else:  \n",
    "        print (f\"{year} is not a leap year\")  "
   ]
  },
  {
   "cell_type": "code",
   "execution_count": 34,
   "metadata": {},
   "outputs": [
    {
     "name": "stdout",
     "output_type": "stream",
     "text": [
      "2000 is a leap year\n"
     ]
    }
   ],
   "source": [
    "is_leap(2000)"
   ]
  },
  {
   "cell_type": "markdown",
   "metadata": {},
   "source": [
    "## Task 6\n",
    "Implement a Python program to print all natural numbers from 1 to n using loop."
   ]
  },
  {
   "cell_type": "code",
   "execution_count": 35,
   "metadata": {},
   "outputs": [],
   "source": [
    "def print_natural_numbers(n:int):\n",
    "    for i in range(n):print(i)"
   ]
  },
  {
   "cell_type": "code",
   "execution_count": 36,
   "metadata": {},
   "outputs": [
    {
     "name": "stdout",
     "output_type": "stream",
     "text": [
      "0\n",
      "1\n",
      "2\n",
      "3\n",
      "4\n",
      "5\n",
      "6\n",
      "7\n",
      "8\n",
      "9\n",
      "10\n",
      "11\n"
     ]
    }
   ],
   "source": [
    "print_natural_numbers(12)"
   ]
  },
  {
   "cell_type": "markdown",
   "metadata": {},
   "source": [
    "## Task 7\n",
    "Implement a Python program to input a number from user and swap first and last digit of the given number. This task is easy to perform when input is transformed to a string. However, the aim here is to make use of mathematical operations to perform the swapping operation. One way to perform this task is to divide the input number by 10 until you are left with the first digit. The remainder from the first division is the last digit. Note that there are alternative approaches to perform the same task."
   ]
  },
  {
   "cell_type": "code",
   "execution_count": 45,
   "metadata": {},
   "outputs": [],
   "source": [
    "def switch_last_digit(x:int,y:int):\n",
    "    if any([a<10 for a in (x,y)]):\n",
    "        print('Both Numbers Should Have Two Digits')\n",
    "        return x,y\n",
    "    x_last,x_remainder=x%10,x//10\n",
    "    y_last,y_remainder=y%10,y//10\n",
    "    return x_remainder*10+y_last,y_remainder*10+x_last"
   ]
  },
  {
   "cell_type": "code",
   "execution_count": 48,
   "metadata": {},
   "outputs": [
    {
     "data": {
      "text/plain": [
       "(20, 31)"
      ]
     },
     "execution_count": 48,
     "metadata": {},
     "output_type": "execute_result"
    }
   ],
   "source": [
    "switch_last_digit(21,30)"
   ]
  },
  {
   "cell_type": "markdown",
   "metadata": {},
   "source": [
    "## Task 8\n",
    "Implement a Python program to input any number from user and find cube of the given number using function. "
   ]
  },
  {
   "cell_type": "code",
   "execution_count": 49,
   "metadata": {},
   "outputs": [],
   "source": [
    "def cube(n:float):\n",
    "    return n**3"
   ]
  },
  {
   "cell_type": "code",
   "execution_count": 50,
   "metadata": {},
   "outputs": [
    {
     "data": {
      "text/plain": [
       "27"
      ]
     },
     "execution_count": 50,
     "metadata": {},
     "output_type": "execute_result"
    }
   ],
   "source": [
    "cube(3)"
   ]
  },
  {
   "cell_type": "markdown",
   "metadata": {},
   "source": [
    "## Task 9\n",
    "Write a function to find prime numbers between two integers (i.e. lower and upper bound). Note that you need to control if provided bounds are positive (at least upper bound should be some positive number) and upper bound is larger than provided lower bound."
   ]
  },
  {
   "cell_type": "code",
   "execution_count": 51,
   "metadata": {},
   "outputs": [],
   "source": [
    "def prime(lower_bound:int,upper_bound:int):\n",
    "    if upper_bound>0 and upper_bound>lower_bound:\n",
    "        for num in range(lower_bound,upper_bound + 1):  \n",
    "            if num > 1:  \n",
    "                for i in range(2,num):  \n",
    "                    if (num % i) == 0:break  \n",
    "                else: print(num)  \n",
    "    else:\n",
    "        print('Check Bounds')"
   ]
  },
  {
   "cell_type": "code",
   "execution_count": 55,
   "metadata": {},
   "outputs": [
    {
     "name": "stdout",
     "output_type": "stream",
     "text": [
      "2\n",
      "3\n"
     ]
    }
   ],
   "source": [
    "prime(2,3)"
   ]
  },
  {
   "cell_type": "markdown",
   "metadata": {},
   "source": [
    "## Task 10\n",
    "Implement a Python program that takes a list with numerical elements and find the sum of list elements."
   ]
  },
  {
   "cell_type": "code",
   "execution_count": 56,
   "metadata": {},
   "outputs": [],
   "source": [
    "def sum_list(input_list:list):return sum(input_list)"
   ]
  },
  {
   "cell_type": "code",
   "execution_count": 57,
   "metadata": {},
   "outputs": [
    {
     "data": {
      "text/plain": [
       "9"
      ]
     },
     "execution_count": 57,
     "metadata": {},
     "output_type": "execute_result"
    }
   ],
   "source": [
    "sum_list([2,3,4])"
   ]
  },
  {
   "cell_type": "markdown",
   "metadata": {},
   "source": [
    "## Task 11\n",
    "Implement a Python program that takes an integer list and find frequency of each element in list. There are built-in functions to perform this task in Python however you are expected perform this task using loops. Example:\n",
    "\n",
    "\n",
    "Input\n",
    "Input array elements: 4, 9, 9, 5, 100, 1, 2, 1, 2\n",
    "\n",
    "Output <br>\n",
    "Frequency of 4 = 1  <br>\n",
    "Frequency of 9 = 2  <br>\n",
    "Frequency of 5 = 1  <br>\n",
    "Frequency of 100 = 1  <br>\n",
    "Frequency of 1 = 2  <br>\n",
    "Frequency of 2 = 2  <br>"
   ]
  },
  {
   "cell_type": "code",
   "execution_count": 60,
   "metadata": {},
   "outputs": [],
   "source": [
    "def get_frequency(input_list:list):\n",
    "    result={}\n",
    "    for element in input_list:\n",
    "        if element in result:result[element]+=1\n",
    "        else:result[element]=1\n",
    "    for element in result:\n",
    "        print(f\"Frequency of {element} = {result[element]}\")"
   ]
  },
  {
   "cell_type": "code",
   "execution_count": 61,
   "metadata": {},
   "outputs": [
    {
     "name": "stdout",
     "output_type": "stream",
     "text": [
      "Frequency of 4 = 1\n",
      "Frequency of 9 = 2\n",
      "Frequency of 5 = 1\n",
      "Frequency of 100 = 1\n",
      "Frequency of 1 = 2\n",
      "Frequency of 2 = 2\n"
     ]
    }
   ],
   "source": [
    "get_frequency([4, 9, 9, 5, 100, 1, 2, 1, 2])"
   ]
  },
  {
   "cell_type": "markdown",
   "metadata": {},
   "source": [
    "## Task 12\n",
    "Implement a Python program that reads the side (side sizes between 1 and 5 ) of a square and prints square using hash (#) character.\n",
    "\n",
    "Input: 5\n",
    "Sample Output: <br>\n",
    "Input the size of the square:  <br>\n",
    " $ # # # # # $ <br>\n",
    " $ # # # # # $ <br>\n",
    " $ # # # # # $ <br>\n",
    " $ # # # # # $ <br>\n",
    " $ # # # # # $ <br>"
   ]
  },
  {
   "cell_type": "code",
   "execution_count": 68,
   "metadata": {},
   "outputs": [],
   "source": [
    "def print_square(side_size:int):\n",
    "    for i in range(side_size):\n",
    "        for k in range(side_size):\n",
    "            print(f\"#\", end = '')\n",
    "        print(\"\")"
   ]
  },
  {
   "cell_type": "code",
   "execution_count": 74,
   "metadata": {},
   "outputs": [
    {
     "name": "stdout",
     "output_type": "stream",
     "text": [
      "##\n",
      "##\n"
     ]
    }
   ],
   "source": [
    "print_square(2)"
   ]
  },
  {
   "cell_type": "code",
   "execution_count": null,
   "metadata": {},
   "outputs": [],
   "source": []
  }
 ],
 "metadata": {
  "kernelspec": {
   "display_name": "Python 3",
   "language": "python",
   "name": "python3"
  },
  "language_info": {
   "codemirror_mode": {
    "name": "ipython",
    "version": 3
   },
   "file_extension": ".py",
   "mimetype": "text/x-python",
   "name": "python",
   "nbconvert_exporter": "python",
   "pygments_lexer": "ipython3",
   "version": "3.6.9"
  }
 },
 "nbformat": 4,
 "nbformat_minor": 4
}
