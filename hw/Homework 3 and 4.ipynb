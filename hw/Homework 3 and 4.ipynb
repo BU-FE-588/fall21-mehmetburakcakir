{
 "cells": [
  {
   "cell_type": "markdown",
   "metadata": {},
   "source": [
    "# Homework 3 and 4 due November December 21$^{st}$, 2021\n",
    "\n",
    "The aim of this homework is to practice the concepts of objects and numpy module in Python. You are expected to use GitHub Classroom and present your work as an html file (i.e. web page) on your progress journals. You can use this jupyter notebook as template to provide your answers.\n",
    "\n",
    "\n",
    "## Object-oriented programming concepts\n",
    "Tasks 1-6 require the definition of objects with init and sample uses to check if classes is defined as intented."
   ]
  },
  {
   "cell_type": "markdown",
   "metadata": {},
   "source": [
    "### Task 1\n",
    "Implement a Python program to create a course class with the course code, course name, credit information. Use this class to create a course object for FE588 and print instance attributes. Also check which class a given course object belongs to.\n",
    "\n",
    "Hint: A sample template to create an object from this class can be as the following:\n",
    "\n",
    "my_course=course('FE588', 'Python Programming for Financial Engineering')"
   ]
  },
  {
   "cell_type": "markdown",
   "metadata": {},
   "source": [
    "### Task 2\n",
    "This part requires to create a student object with the name, id and grade attributes. You can assume name is string, id is an integer variable and grade is a list that can store multiple grades. \n",
    "\n",
    "Hint: A sample template to create an object from this class can be as the following:\n",
    "\n",
    "mustafa=student('Mustafa', 123, grades=None)  \n",
    "or   \n",
    "mustafa=student('Mustafa', 123, grades=[85, 70, 100]) "
   ]
  },
  {
   "cell_type": "markdown",
   "metadata": {},
   "source": [
    "### Task 3\n",
    "Let's modify the course class so that it can store the information of students as a list of student objects. \n",
    "\n",
    "Hint: A sample template to create an object from this class can be as the following:\n",
    "\n",
    "mustafa=student('Mustafa', 123, grades=None)  \n",
    "ahmet=student('Ahmet', 124, grades=[90, 95, 87])  \n",
    "my_course=course('FE588', 'Python Programming for Financial Engineering', students=[mustafa, ahmet])"
   ]
  },
  {
   "cell_type": "markdown",
   "metadata": {},
   "source": [
    "### Task 4\n",
    "Implement a method for course object so that you can append new students to the roster."
   ]
  },
  {
   "cell_type": "markdown",
   "metadata": {},
   "source": [
    "### Task 5\n",
    "Implement a method for course object that you can calculate the average of the grades for each student. Print the averages for the students you have created in Task 3."
   ]
  },
  {
   "cell_type": "markdown",
   "metadata": {},
   "source": [
    "### Task 6\n",
    "Implement a method for course object that you can find the student with maximum average grade and print the student's name and average grade."
   ]
  },
  {
   "cell_type": "markdown",
   "metadata": {},
   "source": [
    "## Matrix manipulation on images\n",
    "In this exercise, you are requested to perform certain operations on images. The aim is to develop matrix manipulation skills.\n",
    "\n",
    "Here is a background information about how a grayscale image is represented on our computers. A grayscale image is basically a matrix where each matrix entry shows the intensity (brightness) level. In other words, when you take a picture with a digital camera, the image is represented by a numerical matrix where the matrix size is defined by the resolution setting of your camera. If your resolution setting is 1280x720, then your image is represented by 1280x720= 921600 pixel values (Actually that is why higher resolution provides better quality pictures). When you have a color image, the image stores the information of multiple channels depending on the image type. The most famous one is RGB type where R, G and B stand for “red”, “green” and “blue” respectively. Hence, you have a matrix as in greyscale images representing the intensity for each channel. Combining these matrices generates the color image.\n",
    "\n",
    "Below is the steps you need to follow for this task:\n",
    "- Take a picture of yours and save it as *.jpg or *.jpeg file.\n",
    "- Using an image editor (i.e. Paint in Windows), crop your head from the image and save it as separate image file (again *.jpg or *.jpeg). The resulting image is expected to be a square (i.e. has the same length and width), hence you should crop the image accordingly.\n",
    "- Resize the cropped image to size 512x512 px (pixel) using an image editor. This image is the one that you will use for this exercise."
   ]
  },
  {
   "cell_type": "markdown",
   "metadata": {},
   "source": [
    "### Task 7\n",
    "Read image as numpy array in Python. You can use matplotlib module. If your environment does not have this module, please install using 'pip install matplotlib'. You can use 'asarray' function from numpy to transform your image contents to numpy array.\n",
    "\n",
    "What is the structure of the variable that stores the image? What is the dimension? Display the image. \n",
    "\n",
    "Hint: You can use the following set of scripts to read the image.   \n",
    "from matplotlib import image   \n",
    "from matplotlib import pyplot    \n",
    "from numpy import asarray\n",
    "\n",
    "image = image.imread('your_image.jpg')  \n",
    "data = asarray(image)"
   ]
  },
  {
   "cell_type": "markdown",
   "metadata": {},
   "source": [
    "### Task 8\n",
    "Display each channel as separate image"
   ]
  },
  {
   "cell_type": "markdown",
   "metadata": {},
   "source": [
    "### Task 9\n",
    "For each channel, calculate the average, maximum and minimum of the columns and store it in three variables using numpy methods defined for numpy objects. What is the structure of the variables storing the average, max and min information.\n"
   ]
  },
  {
   "cell_type": "markdown",
   "metadata": {},
   "source": [
    "### Task 10\n",
    "For each channel, subtract one half of the image from the other half (choice of halves is up to you\n",
    "but dividing the head image vertically into two parts make more sense). If you observe negative pixel\n",
    "values, you can make them equal to zero. Then:\n",
    "- Display the new image.\n",
    "- Display each channel separately as separate image."
   ]
  },
  {
   "cell_type": "markdown",
   "metadata": {},
   "source": [
    "### Tasks 11-12\n",
    "\n",
    "In order to create a noisy image, add a random noise from normal distribution for alternative mean and standard deviation settings to each pixel value for each channel of original image. You can try $\\mu \\in \\{5,10\\}$ and $\\sigma \\in \\{1,2\\}$. So two types of noise are expected: mean=2 and st. dev=1, mean=10 and st.dev=2.\n",
    "- Display the new image.\n",
    "- Display each channel separately as separate image."
   ]
  },
  {
   "cell_type": "code",
   "execution_count": null,
   "metadata": {},
   "outputs": [],
   "source": []
  }
 ],
 "metadata": {
  "kernelspec": {
   "display_name": "Python 3",
   "language": "python",
   "name": "python3"
  },
  "language_info": {
   "codemirror_mode": {
    "name": "ipython",
    "version": 3
   },
   "file_extension": ".py",
   "mimetype": "text/x-python",
   "name": "python",
   "nbconvert_exporter": "python",
   "pygments_lexer": "ipython3",
   "version": "3.6.8"
  }
 },
 "nbformat": 4,
 "nbformat_minor": 2
}
